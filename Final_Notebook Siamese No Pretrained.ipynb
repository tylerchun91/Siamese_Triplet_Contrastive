{
 "cells": [
  {
   "cell_type": "code",
   "execution_count": 1,
   "id": "478503af-57d3-47a3-b0f1-a222229329e0",
   "metadata": {},
   "outputs": [],
   "source": [
    "import pandas as pd\n",
    "import torch\n",
    "from torch.utils.data import Dataset, DataLoader\n",
    "from torchtext.data.utils import get_tokenizer\n",
    "from torchtext.vocab import build_vocab_from_iterator\n",
    "from torchtext import vocab"
   ]
  },
  {
   "cell_type": "code",
   "execution_count": 2,
   "id": "888462fd-27d9-4fa2-946a-b90e175e8b08",
   "metadata": {},
   "outputs": [],
   "source": [
    "from pytorch_metric_learning import distances, losses, miners, reducers, testers\n",
    "import numpy as np\n",
    "import matplotlib.pyplot as plt\n",
    "#from google.colab import drive\n",
    "import torch\n",
    "import torch.nn as nn\n",
    "import torchvision\n",
    "import numpy as np\n",
    "import torchvision.transforms as T\n",
    "import torch.nn.functional as F\n",
    "import torchvision.models as models\n",
    "import torch as tensor\n",
    "from torch.optim import Adam\n",
    "from pytorch_pretrained_bert import BertTokenizer, BertConfig\n",
    "from pytorch_pretrained_bert import BertAdam, BertForSequenceClassification, BertModel\n",
    "import pandas as pd\n",
    "from torchtext.legacy.data import Field,BucketIterator,TabularDataset\n",
    "import re\n",
    "import torchtext\n",
    "from Levenshtein import distance as lev\n",
    "import einops "
   ]
  },
  {
   "cell_type": "code",
   "execution_count": 3,
   "id": "83665a55-1b70-4451-96b6-c3c97940cdd9",
   "metadata": {},
   "outputs": [
    {
     "name": "stdout",
     "output_type": "stream",
     "text": [
      "device: cuda:0\n"
     ]
    }
   ],
   "source": [
    "# Device configuration\n",
    "\n",
    "if torch.cuda.is_available():\n",
    "    device = torch.device('cuda:0')\n",
    "else:\n",
    "    device = torch.device('cpu')\n",
    "print('device:', device)\n"
   ]
  },
  {
   "cell_type": "code",
   "execution_count": 4,
   "id": "8b9583cd-063e-4693-9915-4323465e2fda",
   "metadata": {},
   "outputs": [],
   "source": [
    "class CustomTextDataset(Dataset):\n",
    "    def __init__(self, keywords,b2b_pdesc,neg_anchor,pos_anchor,product_id, y,cont_anchor,cont_label):\n",
    "        super(Dataset, self).__init__()\n",
    "        self.y = y\n",
    "        self.keywords = keywords\n",
    "        self.b2b_pdesc = b2b_pdesc\n",
    "        self.neg_anchor = neg_anchor\n",
    "        self.product_id = product_id\n",
    "        self.pos_anchor = pos_anchor\n",
    "        self.cont_anchor = cont_anchor\n",
    "        self.cont_label = cont_label\n",
    "    def __len__(self):\n",
    "        return len(self.y)\n",
    "    def __getitem__(self, idx):\n",
    "        \n",
    "        y = self.y[idx]\n",
    "        keywords = self.keywords[idx]\n",
    "        b2b_pdesc = self.b2b_pdesc[idx]\n",
    "        neg_anchor = self.neg_anchor[idx]\n",
    "        product_id = self.product_id[idx]\n",
    "        pos_anchor = self.pos_anchor[idx]\n",
    "        cont_anchor = self.cont_anchor[idx]\n",
    "        cont_label = self.cont_label[idx]\n",
    "        sample = {\"keywords\": keywords, \"y\": y,\n",
    "                 'b2b_pdesc':b2b_pdesc,'neg_anchor':neg_anchor,'pos_anchor':pos_anchor,'product_id':product_id,\n",
    "                  'cont_anchor':cont_anchor,'cont_label':cont_label\n",
    "                 }\n",
    "        return sample"
   ]
  },
  {
   "cell_type": "code",
   "execution_count": 5,
   "id": "461eec7f-877b-4ed1-9f6e-dc6b8b22e1bf",
   "metadata": {
    "tags": []
   },
   "outputs": [],
   "source": [
    "final_df = pd.read_csv('../../2.TextEmbeddings/MidData/raw_final_hope.csv')\n",
    "words = list(set((' '.join(final_df['keywords'].astype(str).to_list()+final_df['b2b_pdesc'].astype(str).to_list()+final_df['y'].astype(str).to_list()).split(' '))))\n",
    "ind_to_word = {i:j for i,j in enumerate([\"<unk>\"]+words)}\n",
    "word_to_ind = {j:i for i,j in enumerate([\"<unk>\"]+words)}"
   ]
  },
  {
   "cell_type": "code",
   "execution_count": 6,
   "id": "9c459c4c-7332-4e42-8961-024614c40a62",
   "metadata": {},
   "outputs": [],
   "source": [
    "final_df_cont = final_df.sample(final_df.shape[0],replace=False).reset_index(drop=True)\n",
    "\n",
    "final_df_cont['cont_anchor'] = final_df_cont.iloc[:int(final_df.shape[0]/2),4].to_list() + final_df_cont.iloc[int(final_df.shape[0]/2):,5].to_list()\n",
    "final_df_cont['cont_label'] = 1\n",
    "final_df_cont.iloc[int(final_df.shape[0]/2):,7]=0\n",
    "final_df = final_df_cont.copy()\n",
    "del final_df_cont"
   ]
  },
  {
   "cell_type": "code",
   "execution_count": 7,
   "id": "c364a68a-bfe1-4795-9a25-88dc03810160",
   "metadata": {},
   "outputs": [],
   "source": [
    "final_df=final_df.loc[final_df.y.isin(final_df.y.value_counts().reset_index()[:5]['index']),:].reset_index(drop=True)"
   ]
  },
  {
   "cell_type": "code",
   "execution_count": 118,
   "id": "b2a428c4-3c4f-4f2a-bbb8-ac1b019d934b",
   "metadata": {},
   "outputs": [
    {
     "data": {
      "text/plain": [
       "array(['mirror', 'fender', 'bumper cover', 'headlight', 'tail light'],\n",
       "      dtype=object)"
      ]
     },
     "execution_count": 118,
     "metadata": {},
     "output_type": "execute_result"
    }
   ],
   "source": [
    "final_df.y.unique()"
   ]
  },
  {
   "cell_type": "code",
   "execution_count": 9,
   "id": "d2943414-61bb-49bf-90f1-78483b501609",
   "metadata": {},
   "outputs": [
    {
     "data": {
      "text/plain": [
       "[5481]"
      ]
     },
     "execution_count": 9,
     "metadata": {},
     "output_type": "execute_result"
    }
   ],
   "source": [
    "def fill_up_(lists_2d):\n",
    "    list_em_len = [len(i) for i in lists_2d]\n",
    "    max_len = max(list_em_len)\n",
    "    return torch.tensor([i + ([0]*(max_len-j)) if j < max_len else i for i,j in zip(lists_2d,list_em_len) ])\n",
    "\n",
    "\n",
    "def lookup(texts):\n",
    "    return [word_to_ind[i] for i in texts.split(' ') if i in word_to_ind.keys()]\n",
    "    \n",
    "\n",
    "    \n",
    "lookup('qwdfq bumper')\n",
    "    "
   ]
  },
  {
   "cell_type": "code",
   "execution_count": 10,
   "id": "a4eb399f-9f72-4e9c-8daf-7030f52a7c3f",
   "metadata": {
    "collapsed": true,
    "jupyter": {
     "outputs_hidden": true
    },
    "tags": []
   },
   "outputs": [
    {
     "data": {
      "text/plain": [
       "0              mirrors powered side not heated\n",
       "1                                 matic fender\n",
       "2                             mirror for glass\n",
       "3                                bumper couver\n",
       "4                                    fender sv\n",
       "                         ...                  \n",
       "19975                         gaurd vic bumper\n",
       "19976         mirrors view passenger side rear\n",
       "19977      mirror for right view side gls rear\n",
       "19978                    left light side break\n",
       "19979    assembly side light tail rear drivers\n",
       "Name: keywords, Length: 19980, dtype: object"
      ]
     },
     "execution_count": 10,
     "metadata": {},
     "output_type": "execute_result"
    }
   ],
   "source": [
    "final_df.keywords\n",
    "final_df.b2b_pdesc\n",
    "final_df.neg_anchor\n",
    "final_df.pos_anchor\n",
    "final_df.product_id\n",
    "final_df.keywords"
   ]
  },
  {
   "cell_type": "code",
   "execution_count": 11,
   "id": "3af96fae-38ef-4945-8ef3-f9de608c087e",
   "metadata": {},
   "outputs": [],
   "source": [
    "from sklearn.model_selection import train_test_split\n",
    "train,test_mid = train_test_split(final_df,test_size=0.3,stratify=final_df['y'])\n",
    "\n",
    "\n",
    "valid,test = train_test_split(test_mid,test_size=0.5,stratify=test_mid['y'])"
   ]
  },
  {
   "cell_type": "code",
   "execution_count": 12,
   "id": "0994a7fc-59af-4d58-b917-f2dea72f23b0",
   "metadata": {},
   "outputs": [
    {
     "data": {
      "text/plain": [
       "Index(['keywords', 'y', 'b2b_pdesc', 'product_id', 'neg_anchor', 'pos_anchor',\n",
       "       'cont_anchor', 'cont_label'],\n",
       "      dtype='object')"
      ]
     },
     "execution_count": 12,
     "metadata": {},
     "output_type": "execute_result"
    }
   ],
   "source": [
    "final_df.columns"
   ]
  },
  {
   "cell_type": "code",
   "execution_count": 13,
   "id": "026fccad-a3e1-499b-9e63-b12e2e6e9a54",
   "metadata": {},
   "outputs": [],
   "source": [
    "def collate_fn(batch):\n",
    "\n",
    "    key=torch.tensor(fill_up_([lookup( str(bat['keywords']) ) for bat in batch])).to(device)\n",
    "    neg = torch.tensor(fill_up_([lookup( str(bat['neg_anchor']) ) for bat in batch])).to(device)\n",
    "    pos = torch.tensor(fill_up_([lookup( str(bat['pos_anchor']) ) for bat in batch])).to(device)\n",
    "    cont_anchor = torch.tensor(fill_up_([lookup( str(bat['cont_anchor']) ) for bat in batch])).to(device)\n",
    "    cont_label = torch.tensor(       [bat['cont_label'] for bat in batch]     ).to(device)\n",
    "    return [key,pos,neg,cont_anchor,cont_label]\n",
    "\n",
    "TD_train = CustomTextDataset(keywords = train['keywords'].astype(str).to_list(),\n",
    "                       b2b_pdesc = train['b2b_pdesc'].astype(str).to_list(),\n",
    "                       neg_anchor = train['neg_anchor'].astype(str).to_list(),\n",
    "                       pos_anchor = train['pos_anchor'].astype(str).to_list(),\n",
    "                       product_id = train['product_id'].astype(str).to_list(),\n",
    "                       y=train['y'].to_list(),\n",
    "                             cont_anchor=train['cont_anchor'].to_list(),\n",
    "                             cont_label=train['cont_label'].to_list()\n",
    "                            )\n",
    "\n",
    "TD_test = CustomTextDataset(keywords = test['keywords'].astype(str).to_list(),\n",
    "                       b2b_pdesc = test['b2b_pdesc'].astype(str).to_list(),\n",
    "                       neg_anchor = test['neg_anchor'].astype(str).to_list(),\n",
    "                       pos_anchor = test['pos_anchor'].astype(str).to_list(),\n",
    "                       product_id = test['product_id'].astype(str).to_list(),\n",
    "                       y=test['y'].to_list(),\n",
    "                             cont_anchor=test['cont_anchor'].to_list(),\n",
    "                             cont_label=test['cont_label'].to_list()\n",
    "                           )\n",
    "\n",
    "TD_valid = CustomTextDataset(keywords = valid['keywords'].astype(str).to_list(),\n",
    "                       b2b_pdesc = valid['b2b_pdesc'].astype(str).to_list(),\n",
    "                       neg_anchor = valid['neg_anchor'].astype(str).to_list(),\n",
    "                       pos_anchor = valid['pos_anchor'].astype(str).to_list(),\n",
    "                       product_id = valid['product_id'].astype(str).to_list(),\n",
    "                       y=valid['y'].to_list(),\n",
    "                             cont_anchor=valid['cont_anchor'].to_list(),\n",
    "                             cont_label=valid['cont_label'].to_list()\n",
    "                            )\n",
    "\n",
    "\n",
    "bat_size = 256\n",
    "DL_DS_train = DataLoader(TD_train, batch_size=bat_size, shuffle=True,collate_fn=collate_fn,drop_last=True)\n",
    "DL_DS_test = DataLoader(TD_test, batch_size=bat_size, shuffle=True,collate_fn=collate_fn,drop_last=True)\n",
    "DL_DS_valid = DataLoader(TD_valid, batch_size=bat_size, shuffle=True,collate_fn=collate_fn,drop_last=True)\n"
   ]
  },
  {
   "cell_type": "code",
   "execution_count": 14,
   "id": "48c8c9cc-9a20-4a25-a7f0-b51b61317bf7",
   "metadata": {},
   "outputs": [],
   "source": [
    "class LSTMEncoder(torch.nn.Module):\n",
    "   def __init__(self, output_dim, n_layers=1, vocab_size=None, embedding_dim=None, embeddings=None, bidirectional=False, freeze=True, dropout=0.1):\n",
    "       super().__init__()\n",
    "       if embeddings is None:\n",
    "           self.embedding = torch.nn.Embedding(vocab_size, embedding_dim)\n",
    "       else:\n",
    "           _, embedding_dim = embeddings.shape\n",
    "           self.embedding = torch.nn.Embedding.from_pretrained(embeddings=embeddings, padding_idx=0, freeze=freeze)\n",
    " \n",
    "       self.lstm = torch.nn.LSTM(embedding_dim, output_dim, num_layers=n_layers, bidirectional=bidirectional, dropout=dropout, batch_first=True)\n",
    "       self.directions = 2 if bidirectional else 1\n",
    " \n",
    "       self._projection = torch.nn.Sequential(\n",
    "           torch.nn.Dropout(dropout),\n",
    "           torch.nn.Linear(output_dim * self.directions, output_dim),\n",
    "           torch.nn.BatchNorm1d(output_dim),\n",
    "           torch.nn.ReLU(),\n",
    "           torch.nn.Linear(output_dim, output_dim),\n",
    "           torch.nn.BatchNorm1d(output_dim),\n",
    "           torch.nn.ReLU(),\n",
    "           torch.nn.Linear(output_dim, output_dim, bias=False),\n",
    "       )\n",
    " \n",
    "   def forward(self, x):\n",
    "       embedded = self.embedding(x) # [batch size, sent len, emb dim]\n",
    "       output, (hidden, cell) = self.lstm(embedded)\n",
    "       hidden = einops.rearrange(hidden, '(layer dir) b c -> layer b (dir c)', dir=self.directions)\n",
    "       return self._projection(hidden[-1])\n",
    "\n",
    "\n",
    "class SiameseNetwork(torch.nn.Module):\n",
    "   def __init__(self, learning_rate, transforms, model,margin=1, **kwargs):\n",
    "       super().__init__()\n",
    " \n",
    "       self.learning_rate = learning_rate\n",
    "       self.transforms = transforms\n",
    "       self._encoder = model(**kwargs)\n",
    "       self.loss = torch.nn.TripletMarginLoss(margin=margin, p=2)#,reducer=0)\n",
    " \n",
    "   def configure_optimizers(self):\n",
    "       return torch.optim.Adam(self.parameters(), lr=self.learning_rate)\n",
    " \n",
    "   def _loss(self, anchor, pos, neg):\n",
    "       return self.loss(anchor, pos, neg)\n",
    " \n",
    "   def forward(self, anchor, seq1, seq2):\n",
    "       anchor = self._encoder(anchor)\n",
    "       emb1 = self._encoder(seq1)\n",
    "       emb2 = self._encoder(seq2)\n",
    "       return anchor, emb1, emb2\n",
    "   def get_embeddings(self, anchor):\n",
    "       anchor = self._encoder(anchor)\n",
    "       return anchor"
   ]
  },
  {
   "cell_type": "code",
   "execution_count": 15,
   "id": "60ab4c64-62c1-4724-8556-a870f0277800",
   "metadata": {},
   "outputs": [],
   "source": [
    "learning_rate = 0.00001 \n",
    "\n",
    "\n",
    "s_model = SiameseNetwork(learning_rate = learning_rate,transforms = '',margin=5,model=LSTMEncoder,output_dim=300, n_layers=2, vocab_size=len(word_to_ind), embedding_dim=100, embeddings=None, bidirectional=True, freeze=True, dropout=0.1)\n",
    "s_model.to(device)\n",
    "optimizer = s_model.configure_optimizers()\n",
    "\n",
    "\n",
    "epoches = 100\n",
    "loss_list = []\n",
    "loss_list_v = []"
   ]
  },
  {
   "cell_type": "code",
   "execution_count": 18,
   "id": "d94c0254-04c2-4fd7-b5cd-1b71cbbaa825",
   "metadata": {},
   "outputs": [
    {
     "name": "stderr",
     "output_type": "stream",
     "text": [
      "C:\\Users\\Tyler\\AppData\\Local\\Temp/ipykernel_21816/1845132393.py:3: UserWarning: To copy construct from a tensor, it is recommended to use sourceTensor.clone().detach() or sourceTensor.clone().detach().requires_grad_(True), rather than torch.tensor(sourceTensor).\n",
      "  key=torch.tensor(fill_up_([lookup( str(bat['keywords']) ) for bat in batch])).to(device)\n",
      "C:\\Users\\Tyler\\AppData\\Local\\Temp/ipykernel_21816/1845132393.py:4: UserWarning: To copy construct from a tensor, it is recommended to use sourceTensor.clone().detach() or sourceTensor.clone().detach().requires_grad_(True), rather than torch.tensor(sourceTensor).\n",
      "  neg = torch.tensor(fill_up_([lookup( str(bat['neg_anchor']) ) for bat in batch])).to(device)\n",
      "C:\\Users\\Tyler\\AppData\\Local\\Temp/ipykernel_21816/1845132393.py:5: UserWarning: To copy construct from a tensor, it is recommended to use sourceTensor.clone().detach() or sourceTensor.clone().detach().requires_grad_(True), rather than torch.tensor(sourceTensor).\n",
      "  pos = torch.tensor(fill_up_([lookup( str(bat['pos_anchor']) ) for bat in batch])).to(device)\n",
      "C:\\Users\\Tyler\\AppData\\Local\\Temp/ipykernel_21816/1845132393.py:6: UserWarning: To copy construct from a tensor, it is recommended to use sourceTensor.clone().detach() or sourceTensor.clone().detach().requires_grad_(True), rather than torch.tensor(sourceTensor).\n",
      "  cont_anchor = torch.tensor(fill_up_([lookup( str(bat['cont_anchor']) ) for bat in batch])).to(device)\n"
     ]
    },
    {
     "name": "stdout",
     "output_type": "stream",
     "text": [
      "Train loss : 0 0.0074696579465159665\n",
      "Test loss : 0 5.8974364454096015\n",
      "Train loss : 1 0.006367119443085458\n",
      "Test loss : 1 6.030986482446844\n",
      "Train loss : 2 0.005563847134234729\n",
      "Test loss : 2 5.960890466516668\n",
      "Train loss : 3 0.0048400722099123175\n",
      "Test loss : 3 6.204517277804288\n",
      "Train loss : 4 0.0034929395963748298\n",
      "Test loss : 4 6.120094255967573\n",
      "Train loss : 5 0.0035498317469049383\n",
      "Test loss : 5 5.902100476351651\n",
      "Train loss : 6 0.003965917457309034\n",
      "Test loss : 6 6.1946398995139385\n",
      "Train loss : 7 0.003117723459446872\n",
      "Test loss : 7 5.8752898736433545\n",
      "Train loss : 8 0.002914035623824155\n",
      "Test loss : 8 5.973610097711736\n",
      "Train loss : 9 0.0023030726308072053\n",
      "Test loss : 9 5.916962493549693\n",
      "Train loss : 10 0.0023332158862440673\n",
      "Test loss : 10 6.373030012304133\n",
      "Train loss : 11 0.0021858834834010514\n",
      "Test loss : 11 6.17666092785922\n",
      "Train loss : 12 0.002007803362276819\n",
      "Test loss : 12 5.923831029371782\n",
      "Train loss : 13 0.0021225777972075674\n",
      "Test loss : 13 6.060628977688876\n",
      "Train loss : 14 0.0015392311745219761\n",
      "Test loss : 14 5.8604725057428535\n",
      "Train loss : 15 0.0014182251222707607\n",
      "Test loss : 15 5.761827382174405\n",
      "Train loss : 16 0.0015767475038214965\n",
      "Test loss : 16 5.891652063889937\n",
      "Train loss : 17 0.0012608554076265406\n",
      "Test loss : 17 6.131130998784846\n",
      "Train loss : 18 0.0012709808501380462\n",
      "Test loss : 18 6.268540512431752\n",
      "Train loss : 19 0.0009412559922094699\n",
      "Test loss : 19 6.064739574085582\n",
      "Train loss : 20 0.0006254354698790445\n",
      "Test loss : 20 6.039453983306885\n",
      "Train loss : 21 0.0009071311258055546\n",
      "Test loss : 21 5.426015593788841\n",
      "Train loss : 22 0.0010197075704733531\n",
      "Test loss : 22 5.60300181128762\n",
      "Train loss : 23 0.0008864663196382699\n",
      "Test loss : 23 5.865455410697243\n",
      "Train loss : 24 0.0007189781991419968\n",
      "Test loss : 24 5.96721076965332\n",
      "Train loss : 25 0.0011045045943723784\n",
      "Test loss : 25 5.847298058596524\n",
      "Train loss : 26 0.0005492075449890561\n",
      "Test loss : 26 5.893781358545477\n",
      "Train loss : 27 0.0008201583943985126\n",
      "Test loss : 27 5.966176336461848\n",
      "Train loss : 28 0.00033871574258362806\n",
      "Test loss : 28 5.996930165724321\n",
      "Train loss : 29 0.0003288308917372315\n",
      "Test loss : 29 5.958965865048495\n",
      "Train loss : 30 0.00046224436826176115\n",
      "Test loss : 30 5.888912157578901\n",
      "Train loss : 31 0.0004090877180850064\n",
      "Test loss : 31 5.671186317097057\n",
      "Train loss : 32 0.0005578483903297672\n",
      "Test loss : 32 5.557496894489635\n",
      "Train loss : 33 0.0006164933244387308\n",
      "Test loss : 33 5.897153941067782\n",
      "Train loss : 34 0.0001741418683970416\n",
      "Test loss : 34 5.809422102841464\n",
      "Train loss : 35 0.00018458220141905326\n",
      "Test loss : 35 5.859935890544545\n",
      "Train loss : 36 0.0003790076546095036\n",
      "Test loss : 36 5.928946148265492\n",
      "Train loss : 37 0.0002659041503513301\n",
      "Test loss : 37 5.933975523168391\n",
      "Train loss : 38 0.0001759748836910283\n",
      "Test loss : 38 5.98870342428034\n",
      "Train loss : 39 0.00042246006153247973\n",
      "Test loss : 39 5.933403318578547\n",
      "Train loss : 40 0.0004806898672271658\n",
      "Test loss : 40 5.81293266469782\n",
      "Train loss : 41 0.00020737870147934667\n",
      "Test loss : 41 5.997821721163663\n",
      "Train loss : 42 0.00036169002177538696\n",
      "Test loss : 42 5.949356599287554\n",
      "Train loss : 43 0.00013027695456036814\n",
      "Test loss : 43 5.908509687943892\n",
      "Train loss : 44 0.00016689383321338229\n",
      "Test loss : 44 5.936500592665239\n",
      "Train loss : 45 0.00030600245076197163\n",
      "Test loss : 45 5.877689838409424\n",
      "Train loss : 46 0.0002241240883315051\n",
      "Test loss : 46 5.831760970028964\n",
      "Train loss : 47 0.00023267611309334084\n",
      "Test loss : 47 5.844621181488037\n",
      "Train loss : 48 0.0002002217979342849\n",
      "Test loss : 48 5.707008275118741\n",
      "Train loss : 49 0.00016102029217614068\n",
      "Test loss : 49 5.895282485268333\n",
      "Train loss : 50 0.00024984352704551484\n",
      "Test loss : 50 6.022997639395974\n",
      "Train loss : 51 0.0003039084581865205\n",
      "Test loss : 51 6.015819376165217\n",
      "Train loss : 52 0.00013710986132974977\n",
      "Test loss : 52 5.824919917366722\n",
      "Train loss : 53 0.0002554937921188496\n",
      "Test loss : 53 5.721731446006081\n",
      "Train loss : 54 0.00013231489531419897\n",
      "Test loss : 54 5.665822332555598\n",
      "Train loss : 55 0.00013115974488081756\n",
      "Test loss : 55 5.948779279535467\n",
      "Train loss : 56 0.0001427869967840336\n",
      "Test loss : 56 5.834730625152588\n",
      "Train loss : 57 0.00023769656265223467\n",
      "Test loss : 57 5.873331720178777\n",
      "Train loss : 58 0.00012827830182181465\n",
      "Test loss : 58 6.01109825481068\n",
      "Train loss : 59 0.000177313056257036\n",
      "Test loss : 59 5.8079120462591\n",
      "Train loss : 60 0.00018172500724041902\n",
      "Test loss : 60 5.882614872672341\n",
      "Train loss : 61 7.122548090087043e-05\n",
      "Test loss : 61 5.921547326174649\n",
      "Train loss : 62 0.00010540729595555199\n",
      "Test loss : 62 5.774042909795588\n",
      "Train loss : 63 0.0001218247882745884\n",
      "Test loss : 63 5.557666995308616\n",
      "Train loss : 64 6.8016419256175e-05\n",
      "Test loss : 64 5.945419831709429\n",
      "Train loss : 65 0.00015481030223546204\n",
      "Test loss : 65 5.914100213484331\n",
      "Train loss : 66 0.00018446230226092867\n",
      "Test loss : 66 6.001192136244341\n",
      "Train loss : 67 4.928083055549198e-05\n",
      "Test loss : 67 5.843152132901278\n",
      "Train loss : 68 7.173343113175145e-05\n",
      "Test loss : 68 6.021618929776278\n",
      "Train loss : 69 0.0001180323737638968\n",
      "Test loss : 69 5.730808128010143\n",
      "Train loss : 70 8.34549190821471e-05\n",
      "Test loss : 70 5.960438424890691\n",
      "Train loss : 71 5.896099739604526e-05\n",
      "Test loss : 71 6.019063819538463\n",
      "Train loss : 72 6.115312377611797e-05\n",
      "Test loss : 72 6.004465363242409\n",
      "Train loss : 73 1.9492098578700313e-05\n",
      "Test loss : 73 5.715864051472057\n",
      "Train loss : 74 4.807245676164274e-05\n",
      "Test loss : 74 5.913285255432129\n",
      "Train loss : 75 1.0214332077238294e-05\n",
      "Test loss : 75 5.926126696846702\n",
      "Train loss : 76 4.9476546269875985e-05\n",
      "Test loss : 76 5.788323879241943\n",
      "Train loss : 77 8.14817569873951e-05\n",
      "Test loss : 77 5.639245250008323\n",
      "Train loss : 78 2.2700056433677673e-05\n",
      "Test loss : 78 5.876159147782759\n",
      "Train loss : 79 9.718019929197099e-05\n",
      "Test loss : 79 5.824288151480935\n",
      "Train loss : 80 0.00015800332443581687\n",
      "Test loss : 80 5.900190570137718\n",
      "Train loss : 81 7.966812700033188e-05\n",
      "Test loss : 81 5.946213071996516\n",
      "Train loss : 82 8.1361029986982e-06\n",
      "Test loss : 82 6.004640275781805\n",
      "Train loss : 83 4.509112073315514e-05\n",
      "Test loss : 83 6.1485561457547275\n",
      "Train loss : 84 5.186314660089987e-05\n",
      "Test loss : 84 5.6243908622048115\n",
      "Train loss : 85 2.108093489099432e-05\n",
      "Test loss : 85 5.955170154571533\n",
      "Train loss : 86 7.403214220647458e-05\n",
      "Test loss : 86 5.875479221343994\n",
      "Train loss : 87 5.763355228636e-05\n",
      "Test loss : 87 5.660696939988569\n",
      "Train loss : 88 9.905691776010726e-05\n",
      "Test loss : 88 5.8861237005753955\n",
      "Train loss : 89 0.0\n",
      "Test loss : 89 5.659357331015847\n",
      "Train loss : 90 4.698936310079363e-05\n",
      "Test loss : 90 5.7367846749045635\n",
      "Train loss : 91 2.3725546068615382e-05\n",
      "Test loss : 91 5.741764241998846\n",
      "Train loss : 92 8.918496745604056e-05\n",
      "Test loss : 92 5.607322866266424\n",
      "Train loss : 93 1.9235398482393334e-05\n",
      "Test loss : 93 5.860685131766579\n",
      "Train loss : 94 1.926920204250901e-05\n",
      "Test loss : 94 5.721355958418413\n",
      "Train loss : 95 0.00018535078399711184\n",
      "Test loss : 95 5.601410388946533\n",
      "Train loss : 96 5.6285687066890575e-06\n",
      "Test loss : 96 5.597666436975652\n",
      "Train loss : 97 3.463067804221754e-05\n",
      "Test loss : 97 5.784512389789928\n",
      "Train loss : 98 6.703170085394824e-05\n",
      "Test loss : 98 5.962755246595903\n",
      "Train loss : 99 0.0\n",
      "Test loss : 99 6.051518613641912\n"
     ]
    }
   ],
   "source": [
    "for epo in range(epoches):\n",
    "    epo_loss = 0\n",
    "    epo_loss_test = 0\n",
    "    for i,batch in enumerate(DL_DS_train):\n",
    "\n",
    "        s_model.train()\n",
    "        results = s_model( batch[0], batch[1], batch[2])\n",
    "        loss=s_model._loss(results[0],results[1],results[2])\n",
    "        loss.backward()\n",
    "        optimizer.step()\n",
    "        optimizer.zero_grad()\n",
    "        epo_loss += loss.item()\n",
    "\n",
    "    for i,batch in enumerate(DL_DS_test):\n",
    "\n",
    "        s_model.eval()\n",
    "        results = s_model( batch[0], batch[1], batch[2])\n",
    "        loss=s_model._loss(results[0],results[1],results[2])\n",
    "        epo_loss_test += loss.item()\n",
    "    loss_list.append(epo_loss/len(DL_DS_train))\n",
    "    loss_list_v.append(epo_loss_test/len(DL_DS_test))\n",
    "    print('Train loss : '+str(epo)+ ' '+str(epo_loss/len(DL_DS_train)))\n",
    "    print('Test loss : '+str(epo)+' '+str(epo_loss_test/len(DL_DS_test)))\n"
   ]
  },
  {
   "cell_type": "code",
   "execution_count": 19,
   "id": "0d042abc-832c-464d-bd6d-b6b9e432ce3c",
   "metadata": {},
   "outputs": [],
   "source": [
    "class SiameseWithContrastive(torch.nn.Module):\n",
    "    def __init__(self, learning_rate, transforms, model,margin=1, **kwargs):\n",
    "       super().__init__()\n",
    "\n",
    "       self.learning_rate = learning_rate\n",
    "       self.transforms = transforms\n",
    "       self._encoder = model(**kwargs)\n",
    "       self.margin = margin\n",
    "       self.loss = ContrastiveLoss()\n",
    "    def configure_optimizers(self):\n",
    "       return torch.optim.Adam(self.parameters(), lr=self.learning_rate)\n",
    "\n",
    "    def loss_(self, output1, output2, label):\n",
    "        return self.loss(output1, output2, label)\n",
    "\n",
    "\n",
    "    def forward(self, anchor, neg_anchor):\n",
    "       anchor = self._encoder(anchor)\n",
    "       neg_anchor = self._encoder(neg_anchor)\n",
    "       return anchor, neg_anchor\n",
    "    def get_embeddings(self, anchor):\n",
    "       anchor = self._encoder(anchor)\n",
    "       return anchor\n",
    "\n",
    "\n"
   ]
  },
  {
   "cell_type": "code",
   "execution_count": 20,
   "id": "f4fbb786-aac2-4184-afb3-7822082bb259",
   "metadata": {},
   "outputs": [],
   "source": [
    "# Define the Contrastive Loss Function\n",
    "class ContrastiveLoss(torch.nn.Module):\n",
    "    def __init__(self, margin=2.0):\n",
    "        super(ContrastiveLoss, self).__init__()\n",
    "        self.margin = margin\n",
    "\n",
    "    def forward(self, output1, output2, label):\n",
    "      # Calculate the euclidean distance and calculate the contrastive loss\n",
    "      euclidean_distance = F.pairwise_distance(output1, output2, keepdim = True)\n",
    "\n",
    "      loss_contrastive = torch.mean((1-label) * torch.pow(euclidean_distance, 2) +\n",
    "                                    (label) * torch.pow(torch.clamp(self.margin - euclidean_distance, min=0.0), 2))\n",
    "\n",
    "\n",
    "      return loss_contrastive"
   ]
  },
  {
   "cell_type": "code",
   "execution_count": 21,
   "id": "42dd6983-b8b0-4a61-aa01-f084694406d8",
   "metadata": {},
   "outputs": [
    {
     "name": "stderr",
     "output_type": "stream",
     "text": [
      "C:\\Users\\Tyler\\AppData\\Local\\Temp/ipykernel_21816/1845132393.py:3: UserWarning: To copy construct from a tensor, it is recommended to use sourceTensor.clone().detach() or sourceTensor.clone().detach().requires_grad_(True), rather than torch.tensor(sourceTensor).\n",
      "  key=torch.tensor(fill_up_([lookup( str(bat['keywords']) ) for bat in batch])).to(device)\n",
      "C:\\Users\\Tyler\\AppData\\Local\\Temp/ipykernel_21816/1845132393.py:4: UserWarning: To copy construct from a tensor, it is recommended to use sourceTensor.clone().detach() or sourceTensor.clone().detach().requires_grad_(True), rather than torch.tensor(sourceTensor).\n",
      "  neg = torch.tensor(fill_up_([lookup( str(bat['neg_anchor']) ) for bat in batch])).to(device)\n",
      "C:\\Users\\Tyler\\AppData\\Local\\Temp/ipykernel_21816/1845132393.py:5: UserWarning: To copy construct from a tensor, it is recommended to use sourceTensor.clone().detach() or sourceTensor.clone().detach().requires_grad_(True), rather than torch.tensor(sourceTensor).\n",
      "  pos = torch.tensor(fill_up_([lookup( str(bat['pos_anchor']) ) for bat in batch])).to(device)\n",
      "C:\\Users\\Tyler\\AppData\\Local\\Temp/ipykernel_21816/1845132393.py:6: UserWarning: To copy construct from a tensor, it is recommended to use sourceTensor.clone().detach() or sourceTensor.clone().detach().requires_grad_(True), rather than torch.tensor(sourceTensor).\n",
      "  cont_anchor = torch.tensor(fill_up_([lookup( str(bat['cont_anchor']) ) for bat in batch])).to(device)\n"
     ]
    },
    {
     "name": "stdout",
     "output_type": "stream",
     "text": [
      "Train loss : 0 31.429863152680575\n",
      "Test loss : 0 15.361959717490457\n",
      "Train loss : 1 26.516549251697683\n",
      "Test loss : 1 13.83252984827215\n",
      "Train loss : 2 20.800882445441353\n",
      "Test loss : 2 10.869721759449352\n",
      "Train loss : 3 15.051672193739149\n",
      "Test loss : 3 7.440460595217618\n",
      "Train loss : 4 10.088006160877368\n",
      "Test loss : 4 4.758411277424205\n",
      "Train loss : 5 6.504913241774948\n",
      "Test loss : 5 2.823776136745106\n",
      "Train loss : 6 4.2889514499240455\n",
      "Test loss : 6 1.8160585273395886\n",
      "Train loss : 7 2.997990599385014\n",
      "Test loss : 7 1.3356936953284524\n",
      "Train loss : 8 2.2514397303263345\n",
      "Test loss : 8 1.1496844400059094\n",
      "Train loss : 9 1.81964851308752\n",
      "Test loss : 9 1.077689604325728\n",
      "Train loss : 10 1.5599360554306596\n",
      "Test loss : 10 1.057507406581532\n",
      "Train loss : 11 1.3967054729108457\n",
      "Test loss : 11 1.0612939596176147\n",
      "Train loss : 12 1.291231358492816\n",
      "Test loss : 12 1.0715662999586626\n",
      "Train loss : 13 1.2203960484928555\n",
      "Test loss : 13 1.084062478759072\n",
      "Train loss : 14 1.166573010109089\n",
      "Test loss : 14 1.092659896070307\n",
      "Train loss : 15 1.1326461191530581\n",
      "Test loss : 15 1.1091070066798816\n",
      "Train loss : 16 1.1043683290481567\n",
      "Test loss : 16 1.1311128681356257\n",
      "Train loss : 17 1.0850335867316634\n",
      "Test loss : 17 1.1350884220816873\n",
      "Train loss : 18 1.0693365975662514\n",
      "Test loss : 18 1.1509320194070989\n",
      "Train loss : 19 1.0604024639836065\n",
      "Test loss : 19 1.156408808448098\n",
      "Train loss : 20 1.049634873867035\n",
      "Test loss : 20 1.1648809151215986\n",
      "Train loss : 21 1.04244492009834\n",
      "Test loss : 21 1.176675482229753\n",
      "Train loss : 22 1.0383422529255901\n",
      "Test loss : 22 1.180220744826577\n",
      "Train loss : 23 1.0342957818949665\n",
      "Test loss : 23 1.1817383115941829\n",
      "Train loss : 24 1.0319948924912348\n",
      "Test loss : 24 1.1929078102111816\n",
      "Train loss : 25 1.028693675994873\n",
      "Test loss : 25 1.1889183954759077\n",
      "Train loss : 26 1.0249730304435447\n",
      "Test loss : 26 1.1946783607656306\n",
      "Train loss : 27 1.0256936483912997\n",
      "Test loss : 27 1.2026133212176235\n",
      "Train loss : 28 1.0233946508831449\n",
      "Test loss : 28 1.2010482983155684\n",
      "Train loss : 29 1.0214155559186582\n",
      "Test loss : 29 1.2015102451497859\n",
      "Train loss : 30 1.020366319903621\n",
      "Test loss : 30 1.1945710290562024\n",
      "Train loss : 31 1.0208258871678952\n",
      "Test loss : 31 1.2049334591085261\n",
      "Train loss : 32 1.0182649581520646\n",
      "Test loss : 32 1.2031849405982278\n",
      "Train loss : 33 1.017488662843351\n",
      "Test loss : 33 1.2019383690573953\n",
      "Train loss : 34 1.0181665464683816\n",
      "Test loss : 34 1.1995220942930742\n",
      "Train loss : 35 1.0166853666305542\n",
      "Test loss : 35 1.1998938213695178\n",
      "Train loss : 36 1.0177773678744282\n",
      "Test loss : 36 1.1909142190759832\n",
      "Train loss : 37 1.0160722975377683\n",
      "Test loss : 37 1.1836268685080789\n",
      "Train loss : 38 1.0172304996737727\n",
      "Test loss : 38 1.1914593956687234\n",
      "Train loss : 39 1.0154433029669303\n",
      "Test loss : 39 1.1870816946029663\n",
      "Train loss : 40 1.0149856275982327\n",
      "Test loss : 40 1.1941332817077637\n",
      "Train loss : 41 1.0151125899067632\n",
      "Test loss : 41 1.191598816351457\n",
      "Train loss : 42 1.0150066128483526\n",
      "Test loss : 42 1.1817884120074185\n",
      "Train loss : 43 1.0144595702489216\n",
      "Test loss : 43 1.18629421971061\n",
      "Train loss : 44 1.014673681170852\n",
      "Test loss : 44 1.1854087222706189\n",
      "Train loss : 45 1.0134286063688773\n",
      "Test loss : 45 1.185023015195673\n",
      "Train loss : 46 1.0136945645014446\n",
      "Test loss : 46 1.1842687346718528\n",
      "Train loss : 47 1.0132875398353294\n",
      "Test loss : 47 1.1901549967852505\n",
      "Train loss : 48 1.0138639609018962\n",
      "Test loss : 48 1.1846998171372847\n",
      "Train loss : 49 1.0137974222501118\n",
      "Test loss : 49 1.1868869174610486\n",
      "Train loss : 50 1.0130039166521143\n",
      "Test loss : 50 1.1886503804813733\n",
      "Train loss : 51 1.0129758848084345\n",
      "Test loss : 51 1.1714096611196345\n",
      "Train loss : 52 1.012523721765589\n",
      "Test loss : 52 1.1869368336417458\n",
      "Train loss : 53 1.0128593157838892\n",
      "Test loss : 53 1.1796126799149946\n",
      "Train loss : 54 1.0125283024929188\n",
      "Test loss : 54 1.1757945039055564\n",
      "Train loss : 55 1.0130218973866216\n",
      "Test loss : 55 1.1787245815450496\n",
      "Train loss : 56 1.0124461187256708\n",
      "Test loss : 56 1.1780478954315186\n",
      "Train loss : 57 1.0120430323812697\n",
      "Test loss : 57 1.1773770614103838\n",
      "Train loss : 58 1.0127431684070163\n",
      "Test loss : 58 1.1793929230083118\n",
      "Train loss : 59 1.0126353369818792\n",
      "Test loss : 59 1.1750959157943726\n",
      "Train loss : 60 1.0118357826162268\n",
      "Test loss : 60 1.1761449467052112\n",
      "Train loss : 61 1.0117164784007602\n",
      "Test loss : 61 1.1802468624981968\n",
      "Train loss : 62 1.0124812810509294\n",
      "Test loss : 62 1.179413827982816\n",
      "Train loss : 63 1.0119961743001584\n",
      "Test loss : 63 1.1784186254848132\n",
      "Train loss : 64 1.0120069185892742\n",
      "Test loss : 64 1.1713096336884932\n",
      "Train loss : 65 1.0118858637633148\n",
      "Test loss : 65 1.1749173619530418\n",
      "Train loss : 66 1.0116207665867276\n",
      "Test loss : 66 1.160124952142889\n",
      "Train loss : 67 1.0120405223634508\n",
      "Test loss : 67 1.16452449018305\n",
      "Train loss : 68 1.0115600493219163\n",
      "Test loss : 68 1.1801002892580899\n",
      "Train loss : 69 1.011709577507443\n",
      "Test loss : 69 1.173981243913824\n",
      "Train loss : 70 1.0111278891563416\n",
      "Test loss : 70 1.1703925782983953\n",
      "Train loss : 71 1.0110227840918082\n",
      "Test loss : 71 1.169836629520763\n",
      "Train loss : 72 1.011075743922481\n",
      "Test loss : 72 1.1671072353016247\n",
      "Train loss : 73 1.0115345804779619\n",
      "Test loss : 73 1.1796183477748523\n",
      "Train loss : 74 1.0109990459901315\n",
      "Test loss : 74 1.1707572720267556\n",
      "Train loss : 75 1.0109405672108684\n",
      "Test loss : 75 1.1680707714774392\n",
      "Train loss : 76 1.0106709489115961\n",
      "Test loss : 76 1.168416435068304\n",
      "Train loss : 77 1.0105376309818692\n",
      "Test loss : 77 1.1604308540170842\n",
      "Train loss : 78 1.0098501377635531\n",
      "Test loss : 78 1.1813885732130571\n",
      "Train loss : 79 1.0099008988451075\n",
      "Test loss : 79 1.1619559634815564\n",
      "Train loss : 80 1.0105701751179166\n",
      "Test loss : 80 1.1715894937515259\n",
      "Train loss : 81 1.0101427590405498\n",
      "Test loss : 81 1.1649842153895984\n",
      "Train loss : 82 1.0094973731923986\n",
      "Test loss : 82 1.1591583707115867\n",
      "Train loss : 83 1.0104789424825598\n",
      "Test loss : 83 1.167660496451638\n",
      "Train loss : 84 1.0112357823937028\n",
      "Test loss : 84 1.166967056014321\n",
      "Train loss : 85 1.0103507704204984\n",
      "Test loss : 85 1.1772678765383633\n",
      "Train loss : 86 1.010281178686354\n",
      "Test loss : 86 1.165283820845864\n",
      "Train loss : 87 1.0099643468856812\n",
      "Test loss : 87 1.1586814793673428\n",
      "Train loss : 88 1.0100486190230757\n",
      "Test loss : 88 1.1755804148587314\n",
      "Train loss : 89 1.0094116219767817\n",
      "Test loss : 89 1.1787439801476218\n",
      "Train loss : 90 1.0095316679389388\n",
      "Test loss : 90 1.1667037877169522\n",
      "Train loss : 91 1.0093476242489285\n",
      "Test loss : 91 1.178317741914229\n",
      "Train loss : 92 1.010056491251345\n",
      "Test loss : 92 1.1574430140581997\n",
      "Train loss : 93 1.0100227108708135\n",
      "Test loss : 93 1.1675114631652832\n",
      "Train loss : 94 1.0094701029636242\n",
      "Test loss : 94 1.1690908778797497\n",
      "Train loss : 95 1.0098567582942821\n",
      "Test loss : 95 1.1744687015360051\n",
      "Train loss : 96 1.009729599511182\n",
      "Test loss : 96 1.171692739833485\n",
      "Train loss : 97 1.0089777023703963\n",
      "Test loss : 97 1.159454714168202\n",
      "Train loss : 98 1.009286101217623\n",
      "Test loss : 98 1.1817156076431274\n",
      "Train loss : 99 1.0090120015320954\n",
      "Test loss : 99 1.1477923068133267\n"
     ]
    }
   ],
   "source": [
    "learning_rate = 0.00001 \n",
    "\n",
    "c_model = SiameseWithContrastive(learning_rate = learning_rate,transforms = '',model=LSTMEncoder,output_dim=300, n_layers=2, vocab_size=len(word_to_ind), embedding_dim=300, embeddings=None, bidirectional=True, freeze=True, dropout=0.1)\n",
    "c_model.to(device)\n",
    "optimizer = c_model.configure_optimizers()\n",
    "\n",
    "\n",
    "epoches = 100\n",
    "loss_listc = []\n",
    "loss_listc_v = []\n",
    "\n",
    "for epo in range(epoches):\n",
    "    epo_loss = 0\n",
    "    epo_loss_test = 0\n",
    "    for i,batch in enumerate(DL_DS_train):\n",
    "\n",
    "        c_model.train()\n",
    "        results = c_model( batch[0], batch[3])\n",
    "\n",
    "        \n",
    "        loss=c_model.loss_(results[0],results[1],batch[4])\n",
    "        loss.backward()\n",
    "        optimizer.step()\n",
    "        optimizer.zero_grad()\n",
    "        epo_loss += loss.item()\n",
    "\n",
    "    for i,batch in enumerate(DL_DS_test):\n",
    "\n",
    "        c_model.eval()\n",
    "        results = c_model( batch[0], batch[3])\n",
    "        loss=c_model.loss_(results[0],results[1],batch[4])\n",
    "        epo_loss_test += loss.item()\n",
    "    loss_listc.append(epo_loss/len(DL_DS_train))\n",
    "    loss_listc_v.append(epo_loss_test/len(DL_DS_test))\n",
    "\n",
    "    print('Train loss : '+str(epo)+ ' '+str(epo_loss/len(DL_DS_train)))\n",
    "    print('Test loss : '+str(epo)+' '+str(epo_loss_test/len(DL_DS_test)))\n"
   ]
  },
  {
   "cell_type": "code",
   "execution_count": 22,
   "id": "bd26dd42-518a-47a1-8946-6ed5a5af6f18",
   "metadata": {
    "tags": []
   },
   "outputs": [],
   "source": [
    "\n",
    "valid['keywords_ind'] = [lookup(i) for i in valid.keywords.to_list()]\n",
    "keywords_list_ind = valid['keywords_ind'].to_list()"
   ]
  },
  {
   "cell_type": "code",
   "execution_count": 23,
   "id": "a38e7444-9b6d-4e1b-8a6c-06b3a81aac30",
   "metadata": {},
   "outputs": [],
   "source": [
    "def find_embeddings(lists,models):\n",
    "    total_list = []\n",
    "    for i,j in enumerate(lists):\n",
    "        temp_list = lists.copy()\n",
    "        models.eval()\n",
    "        results = models.get_embeddings(torch.tensor([j]).to(device))\n",
    "        total_list.append(results.tolist()[0])\n",
    "    return total_list\n",
    "model_c_keywords_emb = find_embeddings(keywords_list_ind,c_model)\n",
    "    \n",
    "    "
   ]
  },
  {
   "cell_type": "code",
   "execution_count": 24,
   "id": "9d1b673c-257b-4881-a88c-d5d0c845d377",
   "metadata": {},
   "outputs": [],
   "source": [
    "list_keywords_tensor_c = torch.tensor(model_c_keywords_emb).cuda()"
   ]
  },
  {
   "cell_type": "code",
   "execution_count": 51,
   "id": "2ec8c9ac-79de-4256-8ea0-2986ec691056",
   "metadata": {},
   "outputs": [
    {
     "data": {
      "text/plain": [
       "0.7260593927260593"
      ]
     },
     "execution_count": 51,
     "metadata": {},
     "output_type": "execute_result"
    }
   ],
   "source": [
    "list_keywords_tensor_c.shape\n",
    "list_answer = []\n",
    "for i,j in enumerate(list_keywords_tensor_c):\n",
    "    \n",
    "    index_print = np.argpartition(( j- list_keywords_tensor_c).pow(2).sum(1).sqrt().to('cpu'), 2).numpy()[2]\n",
    "    \n",
    "\n",
    "        \n",
    "    \n",
    "    list_answer.append(index_print)\n",
    "valid['target_y_index'] = list_answer\n",
    "valid = valid.reset_index(drop=True)\n",
    "sum(valid.y == valid.y[valid['target_y_index']].reset_index()['y'])/valid.shape[0]"
   ]
  },
  {
   "cell_type": "code",
   "execution_count": null,
   "id": "ff39c833-7ab2-41b2-9e27-d8709d8839df",
   "metadata": {},
   "outputs": [],
   "source": [
    "#46.31% - contrastive Loss at 20\n",
    "#49.28% - Triplet Loss at 20"
   ]
  },
  {
   "cell_type": "code",
   "execution_count": 52,
   "id": "17c594ed-32f1-47a3-89ce-d86b47103b37",
   "metadata": {},
   "outputs": [],
   "source": [
    "def find_embeddings(lists,models):\n",
    "    total_list = []\n",
    "    for i,j in enumerate(lists):\n",
    "        temp_list = lists.copy()\n",
    "        models.eval()\n",
    "        results = models.get_embeddings(torch.tensor([j]).to(device))\n",
    "        total_list.append(results.tolist()[0])\n",
    "    return total_list\n",
    "model_s_keywords_emb = find_embeddings(keywords_list_ind,s_model)\n",
    "    \n",
    "    "
   ]
  },
  {
   "cell_type": "code",
   "execution_count": 53,
   "id": "a584e6b8-a7c9-413a-802c-65df78c4d9f0",
   "metadata": {},
   "outputs": [],
   "source": [
    "list_keywords_tensor_s = torch.tensor(model_s_keywords_emb).cuda()"
   ]
  },
  {
   "cell_type": "code",
   "execution_count": 54,
   "id": "c5a9e46f-bd71-42a7-a5f3-1d4a7a5d9cc3",
   "metadata": {},
   "outputs": [
    {
     "data": {
      "text/plain": [
       "0.7400734067400734"
      ]
     },
     "execution_count": 54,
     "metadata": {},
     "output_type": "execute_result"
    }
   ],
   "source": [
    "list_keywords_tensor_s.shape\n",
    "list_answer_s = []\n",
    "for i,j in enumerate(list_keywords_tensor_s):\n",
    "    index_print = np.argpartition(( j- list_keywords_tensor_s).pow(2).sum(1).sqrt().to('cpu'), 2).numpy()[2]\n",
    "\n",
    "    list_answer_s.append(index_print)\n",
    "valid['target_y_index_s'] = list_answer_s\n",
    "valid = valid.reset_index(drop=True)\n",
    "sum(valid.y == valid.y[valid['target_y_index_s']].reset_index()['y'])/valid.shape[0]"
   ]
  },
  {
   "cell_type": "code",
   "execution_count": 57,
   "id": "15538243-1473-4701-862e-95e47aa7c1d2",
   "metadata": {},
   "outputs": [],
   "source": [
    "list_keywords_tensor_c.shape\n",
    "list_answer3 = []\n",
    "for i,j in enumerate(list_keywords_tensor_c):\n",
    "    list_indent_answer = []\n",
    "    \n",
    "    \n",
    "    index_print = np.argpartition(( j- list_keywords_tensor_c).pow(2).sum(1).sqrt().to('cpu'), 2).numpy()[2]\n",
    "    list_indent_answer.append(index_print)\n",
    "    index_print = np.argpartition(( j- list_keywords_tensor_c).pow(2).sum(1).sqrt().to('cpu'), 2).numpy()[3]\n",
    "    list_indent_answer.append(index_print)\n",
    "    index_print = np.argpartition(( j- list_keywords_tensor_c).pow(2).sum(1).sqrt().to('cpu'), 2).numpy()[4]\n",
    "    list_indent_answer.append(index_print)   \n",
    "    list_answer3.append(list_indent_answer)\n",
    "    \n",
    "valid['target_y_index_3'] = list_answer3\n",
    "valid = valid.reset_index(drop=True)\n",
    "\n",
    "#sum(valid.y == valid.y[valid['target_y_index']].reset_index()['y'])/valid.shape[0]"
   ]
  },
  {
   "cell_type": "code",
   "execution_count": 58,
   "id": "47204866-54ef-4cfc-97c5-c1e674862e85",
   "metadata": {},
   "outputs": [],
   "source": [
    "\n",
    "list_answer3_s = []\n",
    "for i,j in enumerate(list_keywords_tensor_s):\n",
    "    list_indent_answer = []\n",
    "    \n",
    "    \n",
    "    index_print = np.argpartition(( j- list_keywords_tensor_s).pow(2).sum(1).sqrt().to('cpu'), 2).numpy()[2]\n",
    "    list_indent_answer.append(index_print)\n",
    "    index_print = np.argpartition(( j- list_keywords_tensor_s).pow(2).sum(1).sqrt().to('cpu'), 2).numpy()[3]\n",
    "    list_indent_answer.append(index_print)\n",
    "    index_print = np.argpartition(( j- list_keywords_tensor_s).pow(2).sum(1).sqrt().to('cpu'), 2).numpy()[4]\n",
    "    list_indent_answer.append(index_print)   \n",
    "    list_answer3_s.append(list_indent_answer)\n",
    "    \n",
    "valid['target_y_index_3_s'] = list_answer3_s\n",
    "valid = valid.reset_index(drop=True)\n",
    "\n",
    "#sum(valid.y == valid.y[valid['target_y_index']].reset_index()['y'])/valid.shape[0]"
   ]
  },
  {
   "cell_type": "code",
   "execution_count": 63,
   "id": "b3ba962f-fddb-43e8-9a67-00513abdc17a",
   "metadata": {},
   "outputs": [
    {
     "data": {
      "text/plain": [
       "0.7991324657991324"
      ]
     },
     "execution_count": 63,
     "metadata": {},
     "output_type": "execute_result"
    }
   ],
   "source": [
    "valid.loc[valid[['target_y_index_3','y']].apply(lambda x: len([i for i in x.target_y_index_3 if valid['y'][i] == x.y])>0 ,axis=1),:].shape[0]/valid.shape[0]"
   ]
  },
  {
   "cell_type": "code",
   "execution_count": 65,
   "id": "1618fa26-6525-48aa-8f9a-237c52a2472e",
   "metadata": {},
   "outputs": [
    {
     "data": {
      "text/plain": [
       "0.8121454788121455"
      ]
     },
     "execution_count": 65,
     "metadata": {},
     "output_type": "execute_result"
    }
   ],
   "source": [
    "valid.loc[valid[['target_y_index_3_s','y']].apply(lambda x: len([i for i in x.target_y_index_3_s if valid['y'][i] == x.y])>0 ,axis=1),:].shape[0]/valid.shape[0]"
   ]
  },
  {
   "cell_type": "code",
   "execution_count": 120,
   "id": "663b9bce-68ad-4875-a2f6-7db183bc8327",
   "metadata": {
    "tags": []
   },
   "outputs": [
    {
     "data": {
      "text/plain": [
       "<seaborn.axisgrid.FacetGrid at 0x23422f88b80>"
      ]
     },
     "execution_count": 120,
     "metadata": {},
     "output_type": "execute_result"
    },
    {
     "data": {
      "image/png": "[encoded data removed]",
      "text/plain": [
       "<Figure size 1213.22x576 with 2 Axes>"
      ]
     },
     "metadata": {},
     "output_type": "display_data"
    }
   ],
   "source": [
    "#pd.DataFrame({'':loss_list+loss_list_v})\n",
    "\n",
    "df_lossgraph = pd.DataFrame({'Loss':(loss_list+[i for i in loss_list_v]),'type':(['train' for i in range(len(loss_list_v))] + ['test' for i in range(len(loss_list_v))]),'epoch':([i for i in range(len(loss_list_v))] + [i for i in range(len(loss_list_v))]) } )\n",
    "\n",
    "\n",
    "\n",
    "import seaborn as sns\n",
    "from matplotlib import pyplot as plt\n",
    "\n",
    "sns.relplot(data = df_lossgraph,x='epoch',y='Loss',col='type',hue='type',kind='line',height=8)\n",
    "\n"
   ]
  },
  {
   "cell_type": "code",
   "execution_count": 116,
   "id": "0117340f-8ac0-45bd-9bb2-2639ee3f6c1b",
   "metadata": {},
   "outputs": [
    {
     "data": {
      "text/plain": [
       "<seaborn.axisgrid.FacetGrid at 0x23416b23c70>"
      ]
     },
     "execution_count": 116,
     "metadata": {},
     "output_type": "execute_result"
    },
    {
     "data": {
      "image/png": "[encoded data removed]",
      "text/plain": [
       "<Figure size 1213.22x576 with 2 Axes>"
      ]
     },
     "metadata": {},
     "output_type": "display_data"
    }
   ],
   "source": [
    "df_lossgraph = pd.DataFrame({'Loss':(loss_listc+[i for i in loss_listc_v]),'type':(['train' for i in range(len(loss_listc_v))] + ['test' for i in range(len(loss_listc_v))]),'epoch':([i for i in range(len(loss_listc_v))] + [i for i in range(len(loss_listc_v))]) } )\n",
    "\n",
    "\n",
    "\n",
    "import seaborn as sns\n",
    "from matplotlib import pyplot as plt\n",
    "\n",
    "sns.relplot(data = df_lossgraph,x='epoch',y='Loss',col='type',hue='type',kind='line',height=8)"
   ]
  },
  {
   "cell_type": "code",
   "execution_count": 113,
   "id": "e2050290-f53e-4a4c-bc4d-87b1f69ee820",
   "metadata": {},
   "outputs": [
    {
     "data": {
      "text/html": [
       "<div>\n",
       "<style scoped>\n",
       "    .dataframe tbody tr th:only-of-type {\n",
       "        vertical-align: middle;\n",
       "    }\n",
       "\n",
       "    .dataframe tbody tr th {\n",
       "        vertical-align: top;\n",
       "    }\n",
       "\n",
       "    .dataframe thead th {\n",
       "        text-align: right;\n",
       "    }\n",
       "</style>\n",
       "<table border=\"1\" class=\"dataframe\">\n",
       "  <thead>\n",
       "    <tr style=\"text-align: right;\">\n",
       "      <th></th>\n",
       "      <th>Loss</th>\n",
       "      <th>type</th>\n",
       "      <th>epoch</th>\n",
       "    </tr>\n",
       "  </thead>\n",
       "  <tbody>\n",
       "    <tr>\n",
       "      <th>0</th>\n",
       "      <td>31.429863</td>\n",
       "      <td>train</td>\n",
       "      <td>0</td>\n",
       "    </tr>\n",
       "    <tr>\n",
       "      <th>1</th>\n",
       "      <td>26.516549</td>\n",
       "      <td>train</td>\n",
       "      <td>1</td>\n",
       "    </tr>\n",
       "    <tr>\n",
       "      <th>2</th>\n",
       "      <td>20.800882</td>\n",
       "      <td>train</td>\n",
       "      <td>2</td>\n",
       "    </tr>\n",
       "    <tr>\n",
       "      <th>3</th>\n",
       "      <td>15.051672</td>\n",
       "      <td>train</td>\n",
       "      <td>3</td>\n",
       "    </tr>\n",
       "    <tr>\n",
       "      <th>4</th>\n",
       "      <td>10.088006</td>\n",
       "      <td>train</td>\n",
       "      <td>4</td>\n",
       "    </tr>\n",
       "    <tr>\n",
       "      <th>...</th>\n",
       "      <td>...</td>\n",
       "      <td>...</td>\n",
       "      <td>...</td>\n",
       "    </tr>\n",
       "    <tr>\n",
       "      <th>195</th>\n",
       "      <td>-4.825531</td>\n",
       "      <td>test</td>\n",
       "      <td>95</td>\n",
       "    </tr>\n",
       "    <tr>\n",
       "      <th>196</th>\n",
       "      <td>-4.828307</td>\n",
       "      <td>test</td>\n",
       "      <td>96</td>\n",
       "    </tr>\n",
       "    <tr>\n",
       "      <th>197</th>\n",
       "      <td>-4.840545</td>\n",
       "      <td>test</td>\n",
       "      <td>97</td>\n",
       "    </tr>\n",
       "    <tr>\n",
       "      <th>198</th>\n",
       "      <td>-4.818284</td>\n",
       "      <td>test</td>\n",
       "      <td>98</td>\n",
       "    </tr>\n",
       "    <tr>\n",
       "      <th>199</th>\n",
       "      <td>-4.852208</td>\n",
       "      <td>test</td>\n",
       "      <td>99</td>\n",
       "    </tr>\n",
       "  </tbody>\n",
       "</table>\n",
       "<p>200 rows × 3 columns</p>\n",
       "</div>"
      ],
      "text/plain": [
       "          Loss   type  epoch\n",
       "0    31.429863  train      0\n",
       "1    26.516549  train      1\n",
       "2    20.800882  train      2\n",
       "3    15.051672  train      3\n",
       "4    10.088006  train      4\n",
       "..         ...    ...    ...\n",
       "195  -4.825531   test     95\n",
       "196  -4.828307   test     96\n",
       "197  -4.840545   test     97\n",
       "198  -4.818284   test     98\n",
       "199  -4.852208   test     99\n",
       "\n",
       "[200 rows x 3 columns]"
      ]
     },
     "execution_count": 113,
     "metadata": {},
     "output_type": "execute_result"
    }
   ],
   "source": [
    "df_lossgraph"
   ]
  },
  {
   "cell_type": "code",
   "execution_count": 121,
   "id": "1f7de543-c16b-42bd-a8f2-43c21c667740",
   "metadata": {},
   "outputs": [
    {
     "data": {
      "text/plain": [
       "0.7488202488202488"
      ]
     },
     "execution_count": 121,
     "metadata": {},
     "output_type": "execute_result"
    }
   ],
   "source": [
    "\n",
    "train['keywords_ind'] = [lookup(i) for i in train.keywords.to_list()]\n",
    "keywords_list_ind_train = train['keywords_ind'].to_list()\n",
    "def find_embeddings(lists,models):\n",
    "    total_list = []\n",
    "    for i,j in enumerate(lists):\n",
    "        temp_list = lists.copy()\n",
    "        models.eval()\n",
    "\n",
    "        try:\n",
    "            results = models.get_embeddings(torch.tensor([j]).int().to(device))\n",
    "            total_list.append(results.tolist()[0])\n",
    "        except:\n",
    "            total_list.append(models.get_embeddings(torch.tensor([[0]]).int().to(device))[0])\n",
    "    return total_list\n",
    "model_c_keywords_emb_train = find_embeddings(keywords_list_ind_train,c_model)\n",
    "list_keywords_tensor_c_train = torch.tensor(model_c_keywords_emb_train).cuda()\n",
    "list_keywords_tensor_c_train.shape\n",
    "list_answer_train = []\n",
    "for i,j in enumerate(list_keywords_tensor_c_train):\n",
    "    \n",
    "    index_print = np.argpartition(( j- list_keywords_tensor_c_train).pow(2).sum(1).sqrt().to('cpu'), 2).numpy()[2]\n",
    "    \n",
    "\n",
    "        \n",
    "    \n",
    "    list_answer_train.append(index_print)\n",
    "train['target_y_index'] = list_answer_train\n",
    "train = train.reset_index(drop=True)\n",
    "sum(train.y == train.y[train['target_y_index']].reset_index()['y'])/train.shape[0]"
   ]
  },
  {
   "cell_type": "code",
   "execution_count": 122,
   "id": "f95abbc2-4026-404c-90e1-833678f86ab8",
   "metadata": {},
   "outputs": [
    {
     "data": {
      "text/plain": [
       "0.7740597740597741"
      ]
     },
     "execution_count": 122,
     "metadata": {},
     "output_type": "execute_result"
    }
   ],
   "source": [
    "def find_embeddings(lists,models):\n",
    "    total_list = []\n",
    "    for i,j in enumerate(lists):\n",
    "        temp_list = lists.copy()\n",
    "        models.eval()\n",
    "\n",
    "        try:\n",
    "            results = models.get_embeddings(torch.tensor([j]).int().to(device))\n",
    "            total_list.append(results.tolist()[0])\n",
    "        except:\n",
    "            total_list.append(models.get_embeddings(torch.tensor([[0]]).int().to(device))[0])\n",
    "    return total_list\n",
    "model_s_keywords_emb_train = find_embeddings(keywords_list_ind_train,s_model)\n",
    "list_keywords_tensor_s_train = torch.tensor(model_s_keywords_emb_train).cuda()\n",
    "list_keywords_tensor_s_train.shape\n",
    "list_answer_train = []\n",
    "for i,j in enumerate(list_keywords_tensor_s_train):\n",
    "    \n",
    "    index_print = np.argpartition(( j- list_keywords_tensor_s_train).pow(2).sum(1).sqrt().to('cpu'), 2).numpy()[2]\n",
    "    \n",
    "\n",
    "        \n",
    "    \n",
    "    list_answer_train.append(index_print)\n",
    "train['target_y_index_s'] = list_answer_train\n",
    "train = train.reset_index(drop=True)\n",
    "sum(train.y == train.y[train['target_y_index_s']].reset_index()['y'])/train.shape[0]"
   ]
  },
  {
   "cell_type": "code",
   "execution_count": null,
   "id": "3d647c82-dc85-489e-95ad-9408a16c6626",
   "metadata": {},
   "outputs": [],
   "source": [
    "from sklearn.metrics import confusion_matrix"
   ]
  },
  {
   "cell_type": "code",
   "execution_count": null,
   "id": "8d7bb535-1a6b-4da8-aee4-e5867589e6bb",
   "metadata": {},
   "outputs": [],
   "source": [
    "y_true = [\"cat\", \"ant\", \"cat\", \"cat\", \"ant\", \"bird\"]\n",
    "y_pred = [\"ant\", \"ant\", \"cat\", \"cat\", \"ant\", \"cat\"]\n",
    "confusion_matrix(y_true, y_pred, labels=[\"ant\", \"bird\", \"cat\"])\n",
    "array([[2, 0, 0],\n",
    "       [0, 0, 1],\n",
    "       [1, 0, 2]])"
   ]
  }
 ],
 "metadata": {
  "kernelspec": {
   "display_name": "tyler_stat",
   "language": "python",
   "name": "tyler_stat"
  },
  "language_info": {
   "codemirror_mode": {
    "name": "ipython",
    "version": 3
   },
   "file_extension": ".py",
   "mimetype": "text/x-python",
   "name": "python",
   "nbconvert_exporter": "python",
   "pygments_lexer": "ipython3",
   "version": "3.9.7"
  }
 },
 "nbformat": 4,
 "nbformat_minor": 5
}
